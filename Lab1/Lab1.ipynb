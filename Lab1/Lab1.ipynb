{
 "cells": [
  {
   "cell_type": "code",
   "execution_count": 1,
   "metadata": {},
   "outputs": [],
   "source": [
    "import numpy as np\n",
    "import matplotlib.pyplot as plt"
   ]
  },
  {
   "cell_type": "markdown",
   "metadata": {},
   "source": [
    "## Dataset"
   ]
  },
  {
   "cell_type": "code",
   "execution_count": 2,
   "metadata": {},
   "outputs": [],
   "source": [
    "def generate_linear(n=100):\n",
    "    pts = np.random.uniform(0,1,(n,2))\n",
    "    inputs = []\n",
    "    labels = []\n",
    "    for pt in pts:\n",
    "        inputs.append([pt[0],pt[1]])\n",
    "        distance = (pt[0]-pt[1])/1.414\n",
    "        if pt[0] > pt[1]:\n",
    "            labels.append(0)\n",
    "        else:\n",
    "            labels.append(1)\n",
    "    return {\"x\":np.array(inputs), \"y\":np.array(labels).reshape(n,1)}\n",
    "def generate_XOR_easy():\n",
    "    inputs = []\n",
    "    labels = []\n",
    "    for i in range(11):\n",
    "        inputs.append([0.1*i,0.1*i])\n",
    "        labels.append(0)\n",
    "        if 0.1*i == 0.5:\n",
    "            continue\n",
    "        inputs.append([0.1*i,1-0.1*i])\n",
    "        labels.append(1)\n",
    "    return {\"x\":np.array(inputs),\"y\":np.array(labels).reshape(21,1)}\n"
   ]
  },
  {
   "cell_type": "code",
   "execution_count": 3,
   "metadata": {},
   "outputs": [],
   "source": [
    "def show_data(train,test):\n",
    "\n",
    "    plt.subplot(1,2,1)\n",
    "    x,y = train[\"x\"],train[\"y\"]\n",
    "    plt.title(\"Ground truth\",fontsize=18)\n",
    "    for i in range(x.shape[0]):\n",
    "        if y[i]==0:\n",
    "            plt.plot(x[i][0],x[i][1],'ro')\n",
    "        else:\n",
    "            plt.plot(x[i][0],x[i][1],'bo')\n",
    "    \n",
    "    plt.subplot(1,2,2)\n",
    "    x,y = test[\"x\"],test[\"predict\"]\n",
    "    plt.title('Predict result',fontsize=18)\n",
    "    for i in range(x.shape[0]):\n",
    "        if y[i]<0.5:\n",
    "            plt.plot(x[i][0],x[i][1],'ro')\n",
    "        else:\n",
    "            plt.plot(x[i][0],x[i][1],'bo')\n",
    "    plt.show()\n",
    "def learning_curve(loss):\n",
    "    plt.title(\"Learning Curve\")\n",
    "    plt.plot(loss)\n",
    "    plt.xlabel(\"epoch\")\n",
    "    plt.ylabel(\"loss\")\n",
    "    plt.show()\n"
   ]
  },
  {
   "cell_type": "markdown",
   "metadata": {},
   "source": [
    "## Construct Model\n"
   ]
  },
  {
   "cell_type": "code",
   "execution_count": 4,
   "metadata": {},
   "outputs": [],
   "source": [
    "def activate(x,act):\n",
    "    if act == \"sigmoid\":\n",
    "        return 1.0/(1.0 + np.exp(-x))\n",
    "    elif act == \"tanh\":\n",
    "        return np.tanh(x)\n",
    "    elif act == \"relu\":\n",
    "        return np.maximum(0.0,x)\n",
    "    elif act == \"leaky_relu\":\n",
    "        return np.maximum(0.01*x,x)\n",
    "    elif act == \"softmax\":\n",
    "        return np.exp(x)/sum(np.exp(x))\n",
    "    elif act ==\"none\":\n",
    "        return x\n",
    "\n",
    "def d_activate(x,act,input):\n",
    "    if act == \"sigmoid\":\n",
    "        return np.multiply(x,1.0-x)\n",
    "    elif act == \"tanh\":\n",
    "        return 1.0 - x ** 2\n",
    "    elif act == \"relu\":\n",
    "        x[x <= 0] = 0\n",
    "        x[x>0] = 1.0\n",
    "        return x\n",
    "    elif act == \"leaky_relu\":\n",
    "        x[x > 0.0] = 1.0\n",
    "        x[x <= 0.0] = 0.01\n",
    "        return x\n",
    "    elif act==\"softmax\":\n",
    "        \n",
    "        gradient = np . zeros([x.shape[0],x.shape[1]])\n",
    "        for i in range(len(x)):\n",
    "            for j in range(len(input)):\n",
    "                if i == j:\n",
    "                    gradient[i][0] = x[i] * (1-input[i])\n",
    "                else: \n",
    "                    gradient[i][0] = -x[i]*input[j]\n",
    "        return gradient\n",
    "    elif act ==\"none\":\n",
    "        x[::] = 1.0\n",
    "        return x\n",
    "\n",
    "class Optimizer:\n",
    "\n",
    "    def __init__(self,in_num,out_num,opt):\n",
    "        self.v_pre = np.zeros((in_num + 1, out_num))\n",
    "        self.opt = opt\n",
    "        self.eps = 1e-8\n",
    "        \n",
    "\n",
    "    def run(self,lr,gradient):\n",
    "\n",
    "        if self.opt == \"gd\":\n",
    "            return lr*gradient\n",
    "\n",
    "        elif self.opt == \"momentum\":\n",
    "            self.v_pre = 0.9*self.v_pre - lr * gradient\n",
    "            return -self.v_pre\n",
    "\n",
    "        elif self.opt == \"adagrad\":\n",
    "            self.v_pre  = self.v_pre + gradient**2\n",
    "            return (lr / np.sqrt(self.v_pre) + self.eps) * gradient\n",
    "\n",
    "        elif self.opt == \"RMSProp\":\n",
    "            beta = 0.9\n",
    "            self.v_pre = beta*self.v_pre + (1-beta) * gradient**2\n",
    "            return (lr / np.sqrt(self.v_pre) + self.eps) * gradient\n",
    "        elif self.opt == \"Adam\":\n",
    "            beta1,beta2 = 0.9,0.9\n",
    "            m_t = beta1 * self.v_pre + (1-beta1) * gradient\n",
    "            self.v_pre = beta2 * self.v_pre + (1-beta2) * gradient**2\n",
    "            return (lr / np.sqrt(self.v_pre) + self.eps) * m_t\n",
    "\n",
    "    \n",
    "def count_loss(predict, ground_truth,ls):\n",
    "    if ls == \"mse\":\n",
    "        return np.mean((ground_truth - predict)**2)\n",
    "    elif ls == \"binary_cross_entropy\":\n",
    "        m = ground_truth.shape[1] \n",
    "        cost = -1 / m * (np.multiply(ground_truth, np.log(predict)) + np.multiply(1 - ground_truth, np.log(1 - predict)))\n",
    "        return sum(cost)[0]\n",
    "\n",
    "def d_loss(predict,ground_truth,ls):\n",
    "    if ls == \"mse\":\n",
    "        return (-2) * (ground_truth - predict) / ground_truth.shape[0]\n",
    "    elif ls == \"binary_cross_entropy\":\n",
    "        return -(np.divide(ground_truth, predict) - np.divide(1 - ground_truth, 1 - predict))\n"
   ]
  },
  {
   "cell_type": "code",
   "execution_count": 5,
   "metadata": {},
   "outputs": [],
   "source": [
    "class Layer:\n",
    "    def __init__(self,in_num,out_num,act,param):\n",
    "        self.w = np.random.normal(0,1,(in_num+1,out_num))\n",
    "        self.activate = act\n",
    "        self.optimizer = Optimizer(in_num,out_num,param[\"Optimizer\"])\n",
    "    def forward(self,input):\n",
    "        # 加上 bias 的 neuron\n",
    "        self.input = np.append(input, np.ones((input.shape[0], 1)), axis=1) \n",
    "        self.output = activate(np.matmul(self.input,self.w),self.activate) # o = sig(wx + b)\n",
    "        return self.output\n",
    "    \n",
    "    def backward(self,pre_loss_gradient):\n",
    "        \"\"\"\n",
    "        :param pre_loss_gradient:某node的前一層node的loss經過weight傳到此的值,大小為 [樣本數,這層的neuron數] EX:[100,1]\n",
    "        :param neuron_gradient:某個node的loss值,大小為 [樣本數,這層的neuron數] EX:[100,1]\n",
    "        :param lass_neuron_gradientt:是為了算下一層用,透過weight做傳輸,大小為 [樣本數,上層out的neuron數] EX:[100,2]\n",
    "        \"\"\"\n",
    "        self.neuron_gradient = np.multiply(pre_loss_gradient,d_activate(self.output,self.activate,np.matmul(self.input,self.w)))\n",
    "        lass_neuron_gradient = np.matmul(self.neuron_gradient, self.w[:-1].T) \n",
    "        return lass_neuron_gradient\n",
    "        \n",
    "    def update(self,lr):\n",
    "\n",
    "        self.weight_gradient = np.matmul(self.input.T,self.neuron_gradient)\n",
    "        self.w -= self.optimizer.run(lr,self.weight_gradient)"
   ]
  },
  {
   "cell_type": "code",
   "execution_count": 6,
   "metadata": {},
   "outputs": [],
   "source": [
    "class NN:\n",
    "    \"\"\"\n",
    "    :param hidden_units: a list ex:[3,2]\n",
    "\n",
    "    \"\"\"\n",
    "    def __init__(self,input_units,hidden_units,output_ubits,param):\n",
    "\n",
    "         # input layer\n",
    "        self.layers = [Layer(input_units,hidden_units[0],param[\"Activate\"],param)] \n",
    "        # hidden layer\n",
    "        for i in range(len(hidden_units)-1):\n",
    "            self.layers.append(Layer(hidden_units[i],hidden_units[i+1],param[\"Activate\"],param))  \n",
    "        # output layer\n",
    "        self.layers.append(Layer(hidden_units[-1],output_ubits,\"sigmoid\",param))   \n",
    "\n",
    "    def forward(self,input):\n",
    "        for layer in self.layers:\n",
    "            input = layer.forward(input)\n",
    "        return input\n",
    "\n",
    "    def backward(self,d_loss):\n",
    "        \"\"\"\n",
    "        由最後一層往前算回去\n",
    "        :param d_loss參數: (樣本數,此層out的neuron數) EX:(100,1)\n",
    "        :param d_loss 回傳: (樣本數,前一層out的neuron數)\n",
    "        \"\"\"\n",
    "        for layer in self.layers[::-1]:\n",
    "            d_loss = layer.backward(d_loss)\n",
    "\n",
    "    def update(self,lr):\n",
    "        for layer in self.layers:\n",
    "            layer.update(lr)  \n",
    "\n",
    "    def train(self,param,data):\n",
    "        total_loss = []\n",
    "        for epoch in  range(param['epoch_num']):\n",
    "            self.predict = self.forward(data[\"x\"])\n",
    "            loss = count_loss(self.predict,data[\"y\"],param[\"loss\"][0])\n",
    "            total_loss.append(loss)\n",
    "            self.backward(d_loss(self.predict,data[\"y\"],param[\"loss\"][0]))\n",
    "            self.update(param[\"learning_rate\"])\n",
    "            if epoch%param['epoch_show'] == 0:\n",
    "                print('epoch {:4d} loss : {:.4f}'.format( epoch, loss))\n",
    "        \n",
    "            if loss<param['loss'][1]:\n",
    "                print('converge! At epoch {:4d} loss : {:.4f}'.format( epoch, loss))\n",
    "                break\n",
    "        return total_loss\n",
    "    def test(self,data):\n",
    "        predict = self.forward(data['x'])\n",
    "        print('test loss : ', count_loss(predict, data['y'],param[\"loss\"][0]))\n",
    "        print('test accuracy : {:3.2f}%'.format(np.count_nonzero(np.round(predict) == data['y']) * 100 / len(data['y'])))\n",
    "        \n",
    "        return {\"x\":data['x'],\"predict\":self.forward(data['x'])}"
   ]
  },
  {
   "cell_type": "code",
   "execution_count": 7,
   "metadata": {},
   "outputs": [
    {
     "name": "stdout",
     "output_type": "stream",
     "text": [
      "\n",
      "linear model \n",
      "lr:0.1 \n",
      "hidden:[3, 2] \n",
      "Activate:sigmoid \n",
      "Optimizer:gd\n",
      "Loss:binary_cross_entropy\n",
      "epoch    0 loss : 95.0146\n",
      "epoch  500 loss : 5.8252\n",
      "epoch 1000 loss : 2.1324\n",
      "epoch 1500 loss : 1.7368\n",
      "epoch 2000 loss : 1.5187\n",
      "epoch 2500 loss : 1.3902\n",
      "epoch 3000 loss : 1.3010\n",
      "epoch 3500 loss : 1.2344\n",
      "epoch 4000 loss : 1.1781\n",
      "epoch 4500 loss : 1.1283\n",
      "converge! At epoch 4979 loss : 0.4918\n",
      "test loss :  1.3856090887116659\n",
      "test accuracy : 100.00%\n"
     ]
    },
    {
     "data": {
      "image/png": "[encoded data removed]",
      "text/plain": [
       "<Figure size 432x288 with 2 Axes>"
      ]
     },
     "metadata": {
      "needs_background": "light"
     },
     "output_type": "display_data"
    },
    {
     "data": {
      "image/png": "[encoded data removed]",
      "text/plain": [
       "<Figure size 432x288 with 1 Axes>"
      ]
     },
     "metadata": {
      "needs_background": "light"
     },
     "output_type": "display_data"
    },
    {
     "name": "stdout",
     "output_type": "stream",
     "text": [
      "\n",
      "xor model \n",
      "lr:0.1 \n",
      "hidden:[3, 2] \n",
      "Activate:sigmoid \n",
      "Optimizer:gd\n",
      "Loss:binary_cross_entropy\n",
      "epoch    0 loss : 17.5090\n",
      "epoch  500 loss : 12.2618\n",
      "converge! At epoch  920 loss : 0.4999\n",
      "test loss :  0.4974900530782451\n",
      "test accuracy : 100.00%\n"
     ]
    },
    {
     "data": {
      "image/png": "[encoded data removed]",
      "text/plain": [
       "<Figure size 432x288 with 2 Axes>"
      ]
     },
     "metadata": {
      "needs_background": "light"
     },
     "output_type": "display_data"
    },
    {
     "data": {
      "image/png": "[encoded data removed]",
      "text/plain": [
       "<Figure size 432x288 with 1 Axes>"
      ]
     },
     "metadata": {
      "needs_background": "light"
     },
     "output_type": "display_data"
    }
   ],
   "source": [
    "if __name__ == \"__main__\":\n",
    "    \n",
    "    param = {\n",
    "        \"epoch_num\" : 100000,\n",
    "        \"epoch_show\" : 500,\n",
    "        \"learning_rate\":0.1,  \n",
    "        \"hidden_layer\":[3,2],\n",
    "        \"Activate\":\"sigmoid\",\n",
    "        \"Optimizer\":\"gd\",\n",
    "        \"loss\":(\"binary_cross_entropy\",0.5),\n",
    "\n",
    "        \"learning_rate_list\":[1e1000,1,0.1],\n",
    "        \"hidden_layer_list\":[[1,1],[3,2],[100,100]],\n",
    "        \"Activate_list\":[\"sigmoid\",\"tanh\",\"relu\",\"leaky_relu\"], # relu:xor做的不好\n",
    "        \"Optimizer_list\":[\"gd\",\"momentum\",\"adagrad\",\"RMSProp\",\"Adam\"], # adagrad:xor普普\n",
    "        \"loss_list\":[(\"mse\",0.005,1),(\"binary_cross_entropy\",1,0.1)],\n",
    "        \"Name\":[\"linear\",\"xor\"],\n",
    "        \"linear_data\":{\"train\":generate_linear(),\"test\":generate_linear()},\n",
    "        \"xor_data\":{\"train\":generate_XOR_easy(),\"test\":generate_XOR_easy()},\n",
    "\n",
    "    }\n",
    "    param_list = []  \n",
    "    param_list.append(param)\n",
    "    \n",
    "    for parameter in param_list:\n",
    "\n",
    "        for name in param[\"Name\"]:    \n",
    "            print(f'\\n{name} model \\nlr:{parameter[\"learning_rate\"]} \\nhidden:{parameter[\"hidden_layer\"]} \\nActivate:{parameter[\"Activate\"]} \\nOptimizer:{parameter[\"Optimizer\"]}\\nLoss:{param[\"loss\"][0]}')\n",
    "           \n",
    "            data = param[f\"{name}_data\"]\n",
    "            model = NN(2,parameter[\"hidden_layer\"],1,parameter)\n",
    "            \n",
    "            total_loss = model.train(parameter,data['train'])\n",
    "            predict = model.test(data['test'])\n",
    "            \n",
    "            show_data(data[\"test\"],predict)\n",
    "            learning_curve(total_loss)\n",
    "\n"
   ]
  },
  {
   "cell_type": "code",
   "execution_count": null,
   "metadata": {},
   "outputs": [],
   "source": []
  },
  {
   "cell_type": "code",
   "execution_count": null,
   "metadata": {},
   "outputs": [],
   "source": []
  }
 ],
 "metadata": {
  "kernelspec": {
   "display_name": "Python 3.7.10 ('PythonCourse')",
   "language": "python",
   "name": "python3"
  },
  "language_info": {
   "codemirror_mode": {
    "name": "ipython",
    "version": 3
   },
   "file_extension": ".py",
   "mimetype": "text/x-python",
   "name": "python",
   "nbconvert_exporter": "python",
   "pygments_lexer": "ipython3",
   "version": "3.7.10"
  },
  "orig_nbformat": 4,
  "vscode": {
   "interpreter": {
    "hash": "24977632a94b5f0d87b8aa6aefd6b58fff75ef954fcb353deea9262df9a7c552"
   }
  }
 },
 "nbformat": 4,
 "nbformat_minor": 2
}
