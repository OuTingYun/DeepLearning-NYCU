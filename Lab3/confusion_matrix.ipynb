{
 "cells": [
  {
   "cell_type": "code",
   "execution_count": 9,
   "metadata": {},
   "outputs": [],
   "source": [
    "import pandas as pd\n",
    "from torch.utils.data import DataLoader,Dataset\n",
    "import numpy as np\n",
    "import PIL.Image as Image\n",
    "from torchvision import transforms\n",
    "import torchvision.models\n",
    "import torch.nn as nn\n",
    "from tqdm import tqdm\n",
    "import torch\n",
    "\n",
    "import matplotlib.pyplot as plt\n",
    "\n",
    "from sklearn.metrics import confusion_matrix,ConfusionMatrixDisplay\n"
   ]
  },
  {
   "cell_type": "code",
   "execution_count": 10,
   "metadata": {},
   "outputs": [],
   "source": [
    "def getData(mode):\n",
    "    if mode == 'train':\n",
    "        img = pd.read_csv('train_img.csv')\n",
    "        label = pd.read_csv('train_label.csv')\n",
    "        return np.squeeze(img.values), np.squeeze(label.values)\n",
    "    else:\n",
    "        img = pd.read_csv('test_img.csv')\n",
    "        label = pd.read_csv('test_label.csv')\n",
    "        return np.squeeze(img.values), np.squeeze(label.values)\n",
    "\n",
    "\n",
    "\n",
    "class RetinopathyLoader(Dataset):\n",
    "    def __init__(self, root, mode,transform=None):\n",
    "        self.root = root\n",
    "        self.img_name, self.label = getData(mode)\n",
    "        self.mode = mode\n",
    "        if transform == None:\n",
    "            self.transform = transforms.ToTensor()\n",
    "        else: self.transform = transform\n",
    "        print(\"> Found %d images...\" % (len(self.img_name)))\n",
    "\n",
    "    def __len__(self):\n",
    "        return len(self.img_name)\n",
    "\n",
    "    def __getitem__(self, index):\n",
    "        \n",
    "        path = self.root + self.img_name[index] + '.jpeg'\n",
    "        img = Image.open(path , mode='r')\n",
    "\n",
    "        if self.transform!=None:\n",
    "            img = self.transform(img)\n",
    "\n",
    "        label = self.label[index]\n",
    "\n",
    "        return img, label\n",
    "def LoadData(param):\n",
    "    p={}\n",
    "    data_loader = RetinopathyLoader('data/','test',transform=param['transforms'])\n",
    "    p['test_size'] = len(data_loader)\n",
    "    p['test_data'] = DataLoader(data_loader, batch_size=param['batch'],shuffle=True)  \n",
    "    return p\n"
   ]
  },
  {
   "cell_type": "code",
   "execution_count": 3,
   "metadata": {},
   "outputs": [],
   "source": [
    "class ResNet(nn.Module):\n",
    "    def __init__(self, pretrained=True,layers=18):\n",
    "        super(ResNet, self).__init__()\n",
    "\n",
    "        f = lambda x : \"with\" if x else \"w/o\" \n",
    "        self.pretrained = f(pretrained)\n",
    "        self.layer_num = layers\n",
    "        \n",
    "\n",
    "        pretrained_model = torchvision.models.__dict__[f'resnet{layers}'](pretrained)\n",
    "        self.conv1 = pretrained_model._modules['conv1']\n",
    "        self.bn1 = pretrained_model._modules['bn1']\n",
    "        self.relu = pretrained_model._modules['relu']\n",
    "        self.maxpool = pretrained_model._modules['maxpool']\n",
    "\n",
    "        self.layer1 = pretrained_model._modules['layer1']\n",
    "        self.layer2 = pretrained_model._modules['layer2']\n",
    "        self.layer3 = pretrained_model._modules['layer3']\n",
    "        self.layer4 = pretrained_model._modules['layer4']\n",
    "\n",
    "        self.avgpool = nn.AdaptiveAvgPool2d(1)\n",
    "\n",
    "        self.classify = nn.Linear(pretrained_model._modules['fc'].in_features, 5)\n",
    "\n",
    "        del pretrained_model\n",
    "\n",
    "    def forward(self, x):\n",
    "        x = self.conv1(x)\n",
    "        x = self.bn1(x)\n",
    "        x = self.relu(x)\n",
    "        x = self.maxpool(x)\n",
    "\n",
    "        x = self.layer1(x)\n",
    "        x = self.layer2(x)\n",
    "        x = self.layer3(x)\n",
    "        x = self.layer4(x)\n",
    "\n",
    "        x = self.avgpool(x)\n",
    "        # print(x.shape)\n",
    "        x = x.view(x.size(0), -1)\n",
    "        x = self.classify(x)\n",
    "\n",
    "        return x"
   ]
  },
  {
   "cell_type": "code",
   "execution_count": 4,
   "metadata": {},
   "outputs": [],
   "source": [
    "param = { \n",
    "    \"epochs\":1,#10,\n",
    "    \"batch\":4,\n",
    "    \"learning_rate\":1e-3,\n",
    "    \"Loss\":\"CrossEntropy\",\n",
    "    \"optimizer\":{\n",
    "        \"name\":\"SGD\",\n",
    "        \"momentum\":0.9,\n",
    "        \"weight_decay\":5e-4\n",
    "    },\n",
    "    'model':{\n",
    "        'layer':18,\n",
    "        'pretrained':True\n",
    "    },\n",
    "    'transforms':transforms.Compose([\n",
    "        transforms.ToTensor(),\n",
    "        transforms.Normalize([0.5, 0.5, 0.5], [0.1, 0.1, 0.1]), \n",
    "    ])\n",
    "}\n"
   ]
  },
  {
   "cell_type": "code",
   "execution_count": 6,
   "metadata": {},
   "outputs": [],
   "source": [
    "def generate_cm(layer,pre,bound=None):\n",
    "    model = ResNet(pre,layer)\n",
    "    if bound==None:model.load_state_dict(torch.load(f\"./model/resnet{layer}_{pre}.pth\",map_location=torch.device('cpu')))\n",
    "    else:model.load_state_dict(torch.load(f\"./model/resnet{layer}_{pre}_{bound}.pth\",map_location=torch.device('cpu')))\n",
    "    model.eval()#固定BN用\n",
    "\n",
    "    test_data = LoadData(param)\n",
    "\n",
    "    y_pred,y_true = [],[]\n",
    "    test_acc = 0\n",
    "    with torch.no_grad():\n",
    "        for idx,(data,target) in enumerate(tqdm(test_data['test_data'])):\n",
    "            data = data.to(dtype=torch.float)\n",
    "            target = target.to(dtype=torch.long)\n",
    "            predict = model(data)\n",
    "            \n",
    "            _, preds = torch.max(predict, 1)      \n",
    "            y_pred.extend(preds.view(-1).detach().cpu().numpy())       \n",
    "            y_true.extend(target.view(-1).detach().cpu().numpy())\n",
    "            test_acc  += (torch.max(predict,dim=1).indices==target).sum().item()\n",
    "            \n",
    "    print(f\"test acc:{round(100* test_acc/7025,2)}%\") \n",
    "    cf_matrix = confusion_matrix(y_true, y_pred,normalize=\"true\")\n",
    "    disp = ConfusionMatrixDisplay(confusion_matrix=cf_matrix, display_labels=[0,1,2,3,4])\n",
    "    disp.plot()\n",
    "    if bound==None:plt.savefig(f'resnet{layer}_{pre}_cm.png')\n",
    "    else:plt.savefig(f'resnet{layer}_{pre}_{bound}_cm.png')\n",
    "    \n",
    "    "
   ]
  },
  {
   "cell_type": "code",
   "execution_count": 49,
   "metadata": {},
   "outputs": [
    {
     "name": "stdout",
     "output_type": "stream",
     "text": [
      "> Found 7025 images...\n"
     ]
    },
    {
     "name": "stderr",
     "output_type": "stream",
     "text": [
      "100%|██████████| 1757/1757 [1:12:33<00:00,  2.48s/it]\n"
     ]
    },
    {
     "name": "stdout",
     "output_type": "stream",
     "text": [
      "test acc:80.77%\n"
     ]
    },
    {
     "data": {
      "image/png": "[encoded data removed]",
      "text/plain": [
       "<Figure size 432x288 with 2 Axes>"
      ]
     },
     "metadata": {
      "needs_background": "light"
     },
     "output_type": "display_data"
    }
   ],
   "source": [
    "generate_cm(50,True,80)"
   ]
  }
 ],
 "metadata": {
  "kernelspec": {
   "display_name": "Python 3.7.13 ('DeepLearn')",
   "language": "python",
   "name": "python3"
  },
  "language_info": {
   "codemirror_mode": {
    "name": "ipython",
    "version": 3
   },
   "file_extension": ".py",
   "mimetype": "text/x-python",
   "name": "python",
   "nbconvert_exporter": "python",
   "pygments_lexer": "ipython3",
   "version": "3.7.13"
  },
  "orig_nbformat": 4,
  "vscode": {
   "interpreter": {
    "hash": "8fa7fc9902407fe957e2a214e5df82473bf6ca6917037c9f7416d121f21820c1"
   }
  }
 },
 "nbformat": 4,
 "nbformat_minor": 2
}
